{
 "cells": [
  {
   "cell_type": "code",
   "execution_count": 1,
   "metadata": {
    "collapsed": true,
    "pycharm": {
     "name": "#%%\n"
    }
   },
   "outputs": [
    {
     "name": "stdout",
     "output_type": "stream",
     "text": [
      "Apple Inc. 180.96 48.9M\n",
      "Tesla Inc. 244.40 200.24M\n",
      "Microsoft Corp. 326.79 22.53M\n",
      "Societe Frigorifique et Brasserie de Tunis S.A. 14.03 17.16K\n"
     ]
    }
   ],
   "source": [
    "import requests\n",
    "from bs4 import BeautifulSoup\n",
    "import html\n",
    "import re\n",
    "\n",
    "Stocks = ['AAPL', 'TSLA', 'MSFT', 'sfbt']\n",
    "for stock in Stocks:\n",
    "    link = f'https://www.marketwatch.com/investing/stock/{stock}?mod=over_search'\n",
    "    source = requests.get(link).text\n",
    "    soup = BeautifulSoup(source, 'html.parser')\n",
    "\n",
    "    company_name_tag = soup.find(\"h1\", class_='company__name')\n",
    "    if company_name_tag is not None:\n",
    "        company_name = company_name_tag.text\n",
    "    else:\n",
    "        company_name = \"N/A\"\n",
    "\n",
    "    current_price_tag = soup.find(\"meta\", {\"name\": \"price\"})\n",
    "    if current_price_tag is not None:\n",
    "        current_price = html.unescape(current_price_tag['content'])\n",
    "        # Use regular expression to extract only the numeric part of the price\n",
    "        match = re.search(r\"\\d+.\\d+\", current_price)\n",
    "        if match:\n",
    "            current_price = match.group()\n",
    "    else:\n",
    "        current_price = \"N/A\"\n",
    "\n",
    "    mw_rangeBar = soup.find('mw-rangebar', {'class': 'element element--range range--volume'})\n",
    "    if mw_rangeBar is not None:\n",
    "        volume_div = mw_rangeBar.find('div', {'class': 'range__header'})\n",
    "        if volume_div is not None:\n",
    "            volume_span = volume_div.find('span', {'class': 'primary'})\n",
    "            if volume_span is not None:\n",
    "                volume = volume_span.text.replace('Volume: ', '')\n",
    "    else:\n",
    "        volume = 'N/A'\n",
    "\n",
    "    print(company_name, current_price, volume)\n"
   ]
  },
  {
   "cell_type": "code",
   "execution_count": 2,
   "outputs": [
    {
     "ename": "ModuleNotFoundError",
     "evalue": "No module named 'pandas'",
     "output_type": "error",
     "traceback": [
      "\u001B[1;31m---------------------------------------------------------------------------\u001B[0m",
      "\u001B[1;31mModuleNotFoundError\u001B[0m                       Traceback (most recent call last)",
      "Cell \u001B[1;32mIn[2], line 5\u001B[0m\n\u001B[0;32m      3\u001B[0m \u001B[38;5;28;01mimport\u001B[39;00m \u001B[38;5;21;01mhtml\u001B[39;00m\n\u001B[0;32m      4\u001B[0m \u001B[38;5;28;01mimport\u001B[39;00m \u001B[38;5;21;01mre\u001B[39;00m\n\u001B[1;32m----> 5\u001B[0m \u001B[38;5;28;01mimport\u001B[39;00m \u001B[38;5;21;01mpandas\u001B[39;00m \u001B[38;5;28;01mas\u001B[39;00m \u001B[38;5;21;01mpd\u001B[39;00m\n\u001B[0;32m      7\u001B[0m Stocks \u001B[38;5;241m=\u001B[39m [\u001B[38;5;124m'\u001B[39m\u001B[38;5;124mAAPL\u001B[39m\u001B[38;5;124m'\u001B[39m, \u001B[38;5;124m'\u001B[39m\u001B[38;5;124mTSLA\u001B[39m\u001B[38;5;124m'\u001B[39m, \u001B[38;5;124m'\u001B[39m\u001B[38;5;124mMSFT\u001B[39m\u001B[38;5;124m'\u001B[39m, \u001B[38;5;124m'\u001B[39m\u001B[38;5;124msfbt\u001B[39m\u001B[38;5;124m'\u001B[39m]\n\u001B[0;32m      9\u001B[0m \u001B[38;5;66;03m# Create an empty DataFrame\u001B[39;00m\n",
      "\u001B[1;31mModuleNotFoundError\u001B[0m: No module named 'pandas'"
     ]
    }
   ],
   "source": [
    "import requests\n",
    "from bs4 import BeautifulSoup\n",
    "import html\n",
    "import re\n",
    "import pandas as pd\n",
    "\n",
    "Stocks = ['AAPL', 'TSLA', 'MSFT', 'sfbt']\n",
    "\n",
    "# Create an empty DataFrame\n",
    "df = pd.DataFrame(columns=['Company Name', 'Current Price', 'Volume'])\n",
    "\n",
    "for stock in Stocks:\n",
    "    link = f'https://www.marketwatch.com/investing/stock/{stock}?mod=over_search'\n",
    "    source = requests.get(link).text\n",
    "    soup = BeautifulSoup(source, 'html.parser')\n",
    "\n",
    "    company_name_tag = soup.find(\"h1\", class_='company__name')\n",
    "    if company_name_tag is not None:\n",
    "        company_name = company_name_tag.text\n",
    "    else:\n",
    "        company_name = \"N/A\"\n",
    "\n",
    "    current_price_tag = soup.find(\"meta\", {\"name\": \"price\"})\n",
    "    if current_price_tag is not None:\n",
    "        current_price = html.unescape(current_price_tag['content'])\n",
    "        # Use regular expression to extract only the numeric part of the price\n",
    "        match = re.search(r\"\\d+.\\d+\", current_price)\n",
    "        if match:\n",
    "            current_price = match.group()\n",
    "    else:\n",
    "        current_price = \"N/A\"\n",
    "\n",
    "    mw_rangeBar = soup.find('mw-rangebar', {'class': 'element element--range range--volume'})\n",
    "    if mw_rangeBar is not None:\n",
    "        volume_div = mw_rangeBar.find('div', {'class': 'range__header'})\n",
    "        if volume_div is not None:\n",
    "            volume_span = volume_div.find('span', {'class': 'primary'})\n",
    "            if volume_span is not None:\n",
    "                volume = volume_span.text.replace('Volume: ', '')\n",
    "    else:\n",
    "        volume = 'N/A'\n",
    "\n",
    "    # Add a new row to the DataFrame\n",
    "    df = df.append({'Company Name': company_name, 'Current Price': current_price, 'Volume': volume}, ignore_index=True)\n",
    "\n",
    "# Print the DataFrame\n",
    "print(df)\n"
   ],
   "metadata": {
    "collapsed": false,
    "pycharm": {
     "name": "#%%\n"
    }
   }
  },
  {
   "cell_type": "code",
   "execution_count": null,
   "outputs": [],
   "source": [],
   "metadata": {
    "collapsed": false,
    "pycharm": {
     "name": "#%%\n"
    }
   }
  }
 ],
 "metadata": {
  "kernelspec": {
   "display_name": "Python 3",
   "language": "python",
   "name": "python3"
  },
  "language_info": {
   "codemirror_mode": {
    "name": "ipython",
    "version": 2
   },
   "file_extension": ".py",
   "mimetype": "text/x-python",
   "name": "python",
   "nbconvert_exporter": "python",
   "pygments_lexer": "ipython2",
   "version": "2.7.6"
  }
 },
 "nbformat": 4,
 "nbformat_minor": 0
}