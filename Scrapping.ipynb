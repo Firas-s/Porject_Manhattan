{
 "cells": [
  {
   "cell_type": "code",
   "execution_count": 11,
   "metadata": {
    "collapsed": true,
    "pycharm": {
     "name": "#%%\n"
    }
   },
   "outputs": [],
   "source": [
    "from bs4 import BeautifulSoup\n",
    "import requests"
   ]
  },
  {
   "cell_type": "code",
   "execution_count": 2,
   "outputs": [
    {
     "name": "stdout",
     "output_type": "stream",
     "text": [
      "Collecting requests\n",
      "  Using cached requests-2.31.0-py3-none-any.whl (62 kB)\n",
      "Collecting urllib3<3,>=1.21.1\n",
      "  Using cached urllib3-2.0.3-py3-none-any.whl (123 kB)\n",
      "Collecting charset-normalizer<4,>=2\n",
      "  Using cached charset_normalizer-3.1.0-cp311-cp311-win_amd64.whl (96 kB)\n",
      "Requirement already satisfied: idna<4,>=2.5 in c:\\users\\abassi_firas_dataeng\\pycharmprojects\\porject_manhattan\\venv\\lib\\site-packages (from requests) (3.4)\n",
      "Collecting certifi>=2017.4.17\n",
      "  Using cached certifi-2023.5.7-py3-none-any.whl (156 kB)\n",
      "Installing collected packages: urllib3, charset-normalizer, certifi, requests\n",
      "Successfully installed certifi-2023.5.7 charset-normalizer-3.1.0 requests-2.31.0 urllib3-2.0.3\n",
      "Note: you may need to restart the kernel to use updated packages.\n"
     ]
    },
    {
     "name": "stderr",
     "output_type": "stream",
     "text": [
      "WARNING: You are using pip version 21.3.1; however, version 23.1.2 is available.\n",
      "You should consider upgrading via the 'C:\\Users\\abassi_firas_dataeng\\PycharmProjects\\Porject_Manhattan\\venv\\Scripts\\python.exe -m pip install --upgrade pip' command.\n"
     ]
    }
   ],
   "source": [
    "pip install requests"
   ],
   "metadata": {
    "collapsed": false,
    "pycharm": {
     "name": "#%%\n"
    }
   }
  },
  {
   "cell_type": "code",
   "execution_count": 17,
   "outputs": [
    {
     "name": "stdout",
     "output_type": "stream",
     "text": [
      "Apple Inc. 180.96\n",
      "Tesla Inc. 244.40\n",
      "Microsoft Corp. 326.79\n",
      "Societe Frigorifique et Brasserie de Tunis S.A. 14.03\n"
     ]
    }
   ],
   "source": [
    "import requests\n",
    "from bs4 import BeautifulSoup\n",
    "import html\n",
    "import re\n",
    "\n",
    "Stocks = ['AAPL', 'TSLA', 'MSFT', 'sfbt']\n",
    "for stock in Stocks:\n",
    "    link = f'https://www.marketwatch.com/investing/stock/{stock}?mod=over_search'\n",
    "    source = requests.get(link).text\n",
    "    soup = BeautifulSoup(source, 'html.parser')\n",
    "\n",
    "    company_name_tag = soup.find(\"h1\", class_='company__name')\n",
    "    if company_name_tag is not None:\n",
    "        company_name = company_name_tag.text\n",
    "    else:\n",
    "        company_name = \"N/A\"\n",
    "\n",
    "    current_price_tag = soup.find(\"meta\", {\"name\": \"price\"})\n",
    "    if current_price_tag is not None:\n",
    "        current_price = html.unescape(current_price_tag['content'])\n",
    "        # Use regular expression to extract only the numeric part of the price\n",
    "        match = re.search(r\"\\d+.\\d+\", current_price)\n",
    "        if match:\n",
    "            current_price = match.group()\n",
    "    else:\n",
    "        current_price = \"N/A\"\n",
    "\n",
    "    print(company_name, current_price)\n",
    "\n"
   ],
   "metadata": {
    "collapsed": false,
    "pycharm": {
     "name": "#%%\n"
    }
   }
  },
  {
   "cell_type": "code",
   "execution_count": 18,
   "outputs": [
    {
     "name": "stdout",
     "output_type": "stream",
     "text": [
      "Apple Inc. 180.96 N/A\n",
      "Tesla Inc. 244.40 N/A\n",
      "Microsoft Corp. 326.79 N/A\n",
      "Banque Internationale Arabe de Tunisie S.A. 91.50 N/A\n"
     ]
    }
   ],
   "source": [
    "import requests\n",
    "from bs4 import BeautifulSoup\n",
    "import html\n",
    "import re\n",
    "\n",
    "Stocks = ['AAPL', 'TSLA', 'MSFT',]\n",
    "for stock in Stocks:\n",
    "    link = f'https://www.marketwatch.com/investing/stock/{stock}?mod=over_search'\n",
    "    source = requests.get(link).text\n",
    "    soup = BeautifulSoup(source, 'html.parser')\n",
    "\n",
    "    company_name_tag = soup.find(\"h1\", class_='company__name')\n",
    "    if company_name_tag is not None:\n",
    "        company_name = company_name_tag.text\n",
    "    else:\n",
    "        company_name = \"N/A\"\n",
    "\n",
    "    current_price_tag = soup.find(\"meta\", {\"name\": \"price\"})\n",
    "    if current_price_tag is not None:\n",
    "        current_price = html.unescape(current_price_tag['content'])\n",
    "        # Use regular expression to extract only the numeric part of the price\n",
    "        match = re.search(r\"\\d+.\\d+\", current_price)\n",
    "        if match:\n",
    "            current_price = match.group()\n",
    "    else:\n",
    "        current_price = \"N/A\"\n",
    "\n",
    "    bar_high_tag = soup.find(\"mw-rangeBar\", class_=\"element element--range range--volume\")\n",
    "    if bar_high_tag is not None:\n",
    "        bar_high = bar_high_tag['bar-high']\n",
    "    else:\n",
    "        bar_high = \"N/A\"\n",
    "\n",
    "    print(company_name, current_price, bar_high)"
   ],
   "metadata": {
    "collapsed": false,
    "pycharm": {
     "name": "#%%\n"
    }
   }
  },
  {
   "cell_type": "code",
   "execution_count": 25,
   "outputs": [
    {
     "name": "stdout",
     "output_type": "stream",
     "text": [
      "Apple Inc. \n",
      "$\n",
      "181.98\n",
      " None\n",
      "Tesla Inc. \n",
      "$\n",
      "247.80\n",
      " None\n",
      "Microsoft Corp. \n",
      "$\n",
      "328.87\n",
      " None\n"
     ]
    }
   ],
   "source": [
    "import requests\n",
    "from bs4 import BeautifulSoup\n",
    "\n",
    "Stocks = ['AAPL', 'TSLA', 'MSFT']\n",
    "for stock in Stocks:\n",
    "    link = f'https://www.marketwatch.com/investing/stock/{stock}?mod=over_search'\n",
    "    source = requests.get(link).text\n",
    "    soup = BeautifulSoup(source, 'html.parser')\n",
    "    company_name = soup.find(\"h1\", class_='company__name').text\n",
    "    current_price = soup.find(\"h2\", class_='intraday__price').text\n",
    "    #current_price = soup.find(\"h2\", class_='intraday__price').text.split('$')[1]\n",
    "    volume = soup.find(\"mw-rangeBar\", class_='element element--range range--volume')\n",
    "    # New line: find the mw-rangeBar tag and get the bar-high attribute\n",
    "    #bar_high = soup.find(\"mw-rangeBar\", class_=\"element element--range range--volume\").get('bar-high')\n",
    "\n",
    "    print(company_name, current_price,volume)"
   ],
   "metadata": {
    "collapsed": false,
    "pycharm": {
     "name": "#%%\n"
    }
   }
  },
  {
   "cell_type": "code",
   "execution_count": 26,
   "outputs": [
    {
     "name": "stdout",
     "output_type": "stream",
     "text": [
      "Apple Inc. 180.96 N/A\n",
      "Tesla Inc. 244.40 N/A\n",
      "Microsoft Corp. 326.79 N/A\n",
      "Banque Internationale Arabe de Tunisie S.A. د.ت.‏91.50 N/A\n"
     ]
    }
   ],
   "source": [
    "import requests\n",
    "from bs4 import BeautifulSoup\n",
    "\n",
    "Stocks = ['AAPL', 'TSLA', 'MSFT', 'BIAT']\n",
    "for stock in Stocks:\n",
    "    link = f'https://www.marketwatch.com/investing/stock/{stock}?mod=over_search'\n",
    "    source = requests.get(link).text\n",
    "    soup = BeautifulSoup(source, 'html.parser')\n",
    "    company_name = soup.find(\"h1\", class_='company__name').text.strip()\n",
    "    current_price_meta = soup.find(\"meta\", {\"name\": \"price\"})\n",
    "    current_price = current_price_meta['content'].replace('$', '').strip() if current_price_meta else 'N/A'\n",
    "    volume_data = soup.find('mw-rangeBar', class_=\"element element--range range--volume\")\n",
    "    bar_high = volume_data.get('bar-high') if volume_data else 'N/A'\n",
    "    print(company_name, current_price, bar_high)"
   ],
   "metadata": {
    "collapsed": false,
    "pycharm": {
     "name": "#%%\n"
    }
   }
  },
  {
   "cell_type": "code",
   "execution_count": 27,
   "outputs": [
    {
     "name": "stdout",
     "output_type": "stream",
     "text": [
      "Current Price: $37.65\n",
      "Volume: 853\n"
     ]
    }
   ],
   "source": [
    "import requests\n",
    "from bs4 import BeautifulSoup\n",
    "\n",
    "URL = \"https://www.marketwatch.com/investing/stock/biat?countrycode=tn\"\n",
    "headers = {'User-Agent': 'Mozilla/5.0 (Windows NT 10.0; Win64; x64) AppleWebKit/537.36 (KHTML, like Gecko) Chrome/58.0.3029.110 Safari/537.3'}\n",
    "\n",
    "response = requests.get(URL, headers=headers)\n",
    "soup = BeautifulSoup(response.text, 'html.parser')\n",
    "\n",
    "# Getting current price\n",
    "current_price_element = soup.find('bg-quote', {'class': 'value', 'field': 'Last'})\n",
    "if current_price_element is not None:\n",
    "    current_price = current_price_element.text\n",
    "else:\n",
    "    current_price = 'N/A'\n",
    "\n",
    "# Getting volume\n",
    "mw_rangeBar = soup.find('mw-rangebar', {'class': 'element element--range range--volume'})\n",
    "if mw_rangeBar is not None:\n",
    "    volume_div = mw_rangeBar.find('div', {'class': 'range__header'})\n",
    "    if volume_div is not None:\n",
    "        volume_span = volume_div.find('span', {'class': 'primary'})\n",
    "        if volume_span is not None:\n",
    "            volume = volume_span.text.replace('Volume: ', '')\n",
    "else:\n",
    "    volume = 'N/A'\n",
    "\n",
    "print('Current Price:', current_price)\n",
    "print('Volume:', volume)"
   ],
   "metadata": {
    "collapsed": false,
    "pycharm": {
     "name": "#%%\n"
    }
   }
  },
  {
   "cell_type": "code",
   "execution_count": 28,
   "outputs": [
    {
     "ename": "AttributeError",
     "evalue": "'NoneType' object has no attribute 'get'",
     "output_type": "error",
     "traceback": [
      "\u001B[1;31m---------------------------------------------------------------------------\u001B[0m",
      "\u001B[1;31mAttributeError\u001B[0m                            Traceback (most recent call last)",
      "Cell \u001B[1;32mIn[28], line 14\u001B[0m\n\u001B[0;32m     11\u001B[0m current_price \u001B[38;5;241m=\u001B[39m soup\u001B[38;5;241m.\u001B[39mfind(\u001B[38;5;124m\"\u001B[39m\u001B[38;5;124mh2\u001B[39m\u001B[38;5;124m\"\u001B[39m, class_\u001B[38;5;241m=\u001B[39m\u001B[38;5;124m'\u001B[39m\u001B[38;5;124mintraday__price\u001B[39m\u001B[38;5;124m'\u001B[39m)\u001B[38;5;241m.\u001B[39mtext\u001B[38;5;241m.\u001B[39msplit(\u001B[38;5;124m'\u001B[39m\u001B[38;5;124m$\u001B[39m\u001B[38;5;124m'\u001B[39m)[\u001B[38;5;241m1\u001B[39m]\n\u001B[0;32m     13\u001B[0m \u001B[38;5;66;03m# Getting bar-high value\u001B[39;00m\n\u001B[1;32m---> 14\u001B[0m bar_high \u001B[38;5;241m=\u001B[39m \u001B[43msoup\u001B[49m\u001B[38;5;241;43m.\u001B[39;49m\u001B[43mfind\u001B[49m\u001B[43m(\u001B[49m\u001B[38;5;124;43m\"\u001B[39;49m\u001B[38;5;124;43mmw-rangeBar\u001B[39;49m\u001B[38;5;124;43m\"\u001B[39;49m\u001B[43m,\u001B[49m\u001B[43m \u001B[49m\u001B[43mclass_\u001B[49m\u001B[38;5;241;43m=\u001B[39;49m\u001B[38;5;124;43m\"\u001B[39;49m\u001B[38;5;124;43melement element--range range--volume\u001B[39;49m\u001B[38;5;124;43m\"\u001B[39;49m\u001B[43m)\u001B[49m\u001B[38;5;241;43m.\u001B[39;49m\u001B[43mget\u001B[49m(\u001B[38;5;124m'\u001B[39m\u001B[38;5;124mbar-high\u001B[39m\u001B[38;5;124m'\u001B[39m)\n\u001B[0;32m     16\u001B[0m \u001B[38;5;66;03m# Getting volume\u001B[39;00m\n\u001B[0;32m     17\u001B[0m mw_rangeBar \u001B[38;5;241m=\u001B[39m soup\u001B[38;5;241m.\u001B[39mfind(\u001B[38;5;124m'\u001B[39m\u001B[38;5;124mmw-rangebar\u001B[39m\u001B[38;5;124m'\u001B[39m, {\u001B[38;5;124m'\u001B[39m\u001B[38;5;124mclass\u001B[39m\u001B[38;5;124m'\u001B[39m: \u001B[38;5;124m'\u001B[39m\u001B[38;5;124melement element--range range--volume\u001B[39m\u001B[38;5;124m'\u001B[39m})\n",
      "\u001B[1;31mAttributeError\u001B[0m: 'NoneType' object has no attribute 'get'"
     ]
    }
   ],
   "source": [
    "import requests\n",
    "from bs4 import BeautifulSoup\n",
    "\n",
    "Stocks = ['AAPL', 'TSLA', 'MSFT', 'BIAT']\n",
    "for stock in Stocks:\n",
    "    link = f'https://www.marketwatch.com/investing/stock/{stock}?mod=over_search'\n",
    "    source = requests.get(link).text\n",
    "    soup = BeautifulSoup(source, 'html.parser')\n",
    "\n",
    "    company_name = soup.find(\"h1\", class_='company__name').text\n",
    "    current_price = soup.find(\"h2\", class_='intraday__price').text.split('$')[1]\n",
    "\n",
    "    # Getting bar-high value\n",
    "    bar_high = soup.find(\"mw-rangeBar\", class_=\"element element--range range--volume\").get('bar-high')\n",
    "\n",
    "    # Getting volume\n",
    "    mw_rangeBar = soup.find('mw-rangebar', {'class': 'element element--range range--volume'})\n",
    "    if mw_rangeBar is not None:\n",
    "        volume_div = mw_rangeBar.find('div', {'class': 'range__header'})\n",
    "        if volume_div is not None:\n",
    "            volume_span = volume_div.find('span', {'class': 'primary'})\n",
    "            if volume_span is not None:\n",
    "                volume = volume_span.text.replace('Volume: ', '')\n",
    "    else:\n",
    "        volume = 'N/A'\n",
    "\n",
    "    print(company_name, current_price, bar_high, volume)\n"
   ],
   "metadata": {
    "collapsed": false,
    "pycharm": {
     "name": "#%%\n"
    }
   }
  },
  {
   "cell_type": "code",
   "execution_count": 29,
   "outputs": [
    {
     "ename": "AttributeError",
     "evalue": "'NoneType' object has no attribute 'group'",
     "output_type": "error",
     "traceback": [
      "\u001B[1;31m---------------------------------------------------------------------------\u001B[0m",
      "\u001B[1;31mAttributeError\u001B[0m                            Traceback (most recent call last)",
      "Cell \u001B[1;32mIn[29], line 16\u001B[0m\n\u001B[0;32m     14\u001B[0m \u001B[38;5;66;03m# Getting bar-high value\u001B[39;00m\n\u001B[0;32m     15\u001B[0m mw_rangeBar \u001B[38;5;241m=\u001B[39m soup\u001B[38;5;241m.\u001B[39mfind(\u001B[38;5;124m\"\u001B[39m\u001B[38;5;124mmw-rangeBar\u001B[39m\u001B[38;5;124m\"\u001B[39m, class_\u001B[38;5;241m=\u001B[39m\u001B[38;5;124m\"\u001B[39m\u001B[38;5;124melement element--range range--volume\u001B[39m\u001B[38;5;124m\"\u001B[39m)\n\u001B[1;32m---> 16\u001B[0m bar_high \u001B[38;5;241m=\u001B[39m \u001B[43mre\u001B[49m\u001B[38;5;241;43m.\u001B[39;49m\u001B[43msearch\u001B[49m\u001B[43m(\u001B[49m\u001B[38;5;124;43mr\u001B[39;49m\u001B[38;5;124;43m'\u001B[39;49m\u001B[38;5;124;43mbar-high=\u001B[39;49m\u001B[38;5;124;43m\"\u001B[39;49m\u001B[38;5;124;43m(.*?)\u001B[39;49m\u001B[38;5;124;43m\"\u001B[39;49m\u001B[38;5;124;43m'\u001B[39;49m\u001B[43m,\u001B[49m\u001B[43m \u001B[49m\u001B[38;5;28;43mstr\u001B[39;49m\u001B[43m(\u001B[49m\u001B[43mmw_rangeBar\u001B[49m\u001B[43m)\u001B[49m\u001B[43m)\u001B[49m\u001B[38;5;241;43m.\u001B[39;49m\u001B[43mgroup\u001B[49m(\u001B[38;5;241m1\u001B[39m)\n\u001B[0;32m     18\u001B[0m \u001B[38;5;66;03m# Getting volume\u001B[39;00m\n\u001B[0;32m     19\u001B[0m volume_div \u001B[38;5;241m=\u001B[39m mw_rangeBar\u001B[38;5;241m.\u001B[39mfind(\u001B[38;5;124m'\u001B[39m\u001B[38;5;124mdiv\u001B[39m\u001B[38;5;124m'\u001B[39m, {\u001B[38;5;124m'\u001B[39m\u001B[38;5;124mclass\u001B[39m\u001B[38;5;124m'\u001B[39m: \u001B[38;5;124m'\u001B[39m\u001B[38;5;124mrange__header\u001B[39m\u001B[38;5;124m'\u001B[39m})\n",
      "\u001B[1;31mAttributeError\u001B[0m: 'NoneType' object has no attribute 'group'"
     ]
    }
   ],
   "source": [
    "import requests\n",
    "import re\n",
    "from bs4 import BeautifulSoup\n",
    "\n",
    "Stocks = ['AAPL', 'TSLA', 'MSFT', 'BIAT']\n",
    "for stock in Stocks:\n",
    "    link = f'https://www.marketwatch.com/investing/stock/{stock}?mod=over_search'\n",
    "    source = requests.get(link).text\n",
    "    soup = BeautifulSoup(source, 'html.parser')\n",
    "\n",
    "    company_name = soup.find(\"h1\", class_='company__name').text\n",
    "    current_price = soup.find(\"h2\", class_='intraday__price').text.split('$')[1]\n",
    "\n",
    "    # Getting bar-high value\n",
    "    mw_rangeBar = soup.find(\"mw-rangeBar\", class_=\"element element--range range--volume\")\n",
    "    bar_high = re.search(r'bar-high=\"(.*?)\"', str(mw_rangeBar)).group(1)\n",
    "\n",
    "    # Getting volume\n",
    "    volume_div = mw_rangeBar.find('div', {'class': 'range__header'})\n",
    "    volume_span = volume_div.find('span', {'class': 'primary'})\n",
    "    volume = volume_span.text.replace('Volume: ', '')\n",
    "\n",
    "    print(company_name, current_price, bar_high, volume)\n"
   ],
   "metadata": {
    "collapsed": false,
    "pycharm": {
     "name": "#%%\n"
    }
   }
  },
  {
   "cell_type": "code",
   "execution_count": 30,
   "outputs": [
    {
     "name": "stdout",
     "output_type": "stream",
     "text": [
      "Apple Inc. 180.96 48.9M\n",
      "Tesla Inc. 244.40 200.24M\n",
      "Microsoft Corp. 326.79 22.53M\n",
      "Societe Frigorifique et Brasserie de Tunis S.A. 14.03 17.16K\n"
     ]
    }
   ],
   "source": [
    "import requests\n",
    "from bs4 import BeautifulSoup\n",
    "import html\n",
    "import re\n",
    "\n",
    "Stocks = ['AAPL', 'TSLA', 'MSFT', 'sfbt']\n",
    "for stock in Stocks:\n",
    "    link = f'https://www.marketwatch.com/investing/stock/{stock}?mod=over_search'\n",
    "    source = requests.get(link).text\n",
    "    soup = BeautifulSoup(source, 'html.parser')\n",
    "\n",
    "    company_name_tag = soup.find(\"h1\", class_='company__name')\n",
    "    if company_name_tag is not None:\n",
    "        company_name = company_name_tag.text\n",
    "    else:\n",
    "        company_name = \"N/A\"\n",
    "\n",
    "    current_price_tag = soup.find(\"meta\", {\"name\": \"price\"})\n",
    "    if current_price_tag is not None:\n",
    "        current_price = html.unescape(current_price_tag['content'])\n",
    "        # Use regular expression to extract only the numeric part of the price\n",
    "        match = re.search(r\"\\d+.\\d+\", current_price)\n",
    "        if match:\n",
    "            current_price = match.group()\n",
    "    else:\n",
    "        current_price = \"N/A\"\n",
    "\n",
    "    mw_rangeBar = soup.find('mw-rangebar', {'class': 'element element--range range--volume'})\n",
    "    if mw_rangeBar is not None:\n",
    "        volume_div = mw_rangeBar.find('div', {'class': 'range__header'})\n",
    "        if volume_div is not None:\n",
    "            volume_span = volume_div.find('span', {'class': 'primary'})\n",
    "            if volume_span is not None:\n",
    "                volume = volume_span.text.replace('Volume: ', '')\n",
    "    else:\n",
    "        volume = 'N/A'\n",
    "\n",
    "    print(company_name, current_price, volume)\n"
   ],
   "metadata": {
    "collapsed": false,
    "pycharm": {
     "name": "#%%\n"
    }
   }
  },
  {
   "cell_type": "code",
   "execution_count": null,
   "outputs": [],
   "source": [],
   "metadata": {
    "collapsed": false,
    "pycharm": {
     "name": "#%%\n"
    }
   }
  }
 ],
 "metadata": {
  "kernelspec": {
   "display_name": "Python 3",
   "language": "python",
   "name": "python3"
  },
  "language_info": {
   "codemirror_mode": {
    "name": "ipython",
    "version": 2
   },
   "file_extension": ".py",
   "mimetype": "text/x-python",
   "name": "python",
   "nbconvert_exporter": "python",
   "pygments_lexer": "ipython2",
   "version": "2.7.6"
  }
 },
 "nbformat": 4,
 "nbformat_minor": 0
}